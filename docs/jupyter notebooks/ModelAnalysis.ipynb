{
 "cells": [
  {
   "cell_type": "markdown",
   "metadata": {},
   "source": [
    "## Twitter Bot Detection Model Analysis\n",
    "\n",
    "**Summer 2018**<br>\n",
    "**Contributers:** Karan Bhandarkar and Vivek Mishra\n"
   ]
  },
  {
   "cell_type": "code",
   "execution_count": 2,
   "metadata": {},
   "outputs": [],
   "source": [
    "import warnings\n",
    "warnings.filterwarnings('ignore')\n",
    "\n",
    "%matplotlib inline\n",
    "import json\n",
    "import numpy as np # imports a fast numerical programming library\n",
    "import scipy as sp #imports stats functions, amongst other things\n",
    "import matplotlib as mpl # this actually imports matplotlib\n",
    "import matplotlib.cm as cm #allows us easy access to colormaps\n",
    "import matplotlib.pyplot as plt #sets up plotting under plt\n",
    "import pandas as pd #lets us handle data as dataframes\n",
    "#sets up pandas table display\n",
    "pd.set_option('display.width', 500)\n",
    "pd.set_option('display.max_columns', 100)\n",
    "pd.set_option('display.notebook_repr_html', True)\n",
    "from bs4 import BeautifulSoup\n",
    "import re\n",
    "#import unidecode\n",
    "from pandas.plotting import scatter_matrix\n",
    "from wordcloud import WordCloud, STOPWORDS"
   ]
  },
  {
   "cell_type": "code",
   "execution_count": 3,
   "metadata": {},
   "outputs": [],
   "source": [
    "tweets_with_accounts = pd.read_csv(\"tweets_with_accounts.csv\", index_col=0)"
   ]
  },
  {
   "cell_type": "code",
   "execution_count": 4,
   "metadata": {},
   "outputs": [
    {
     "data": {
      "text/plain": [
       "screen_name          object\n",
       "popularity_ratio    float64\n",
       "listed_count          int64\n",
       "verified              int64\n",
       "tweets_per_day      float64\n",
       "default_profile       int64\n",
       "name                 object\n",
       "full_text            object\n",
       "lang                 object\n",
       "isBot               float64\n",
       "dtype: object"
      ]
     },
     "execution_count": 4,
     "metadata": {},
     "output_type": "execute_result"
    }
   ],
   "source": [
    "tweets_with_accounts.dtypes"
   ]
  },
  {
   "cell_type": "code",
   "execution_count": 5,
   "metadata": {},
   "outputs": [
    {
     "data": {
      "text/html": [
       "<div>\n",
       "<style scoped>\n",
       "    .dataframe tbody tr th:only-of-type {\n",
       "        vertical-align: middle;\n",
       "    }\n",
       "\n",
       "    .dataframe tbody tr th {\n",
       "        vertical-align: top;\n",
       "    }\n",
       "\n",
       "    .dataframe thead th {\n",
       "        text-align: right;\n",
       "    }\n",
       "</style>\n",
       "<table border=\"1\" class=\"dataframe\">\n",
       "  <thead>\n",
       "    <tr style=\"text-align: right;\">\n",
       "      <th></th>\n",
       "      <th>screen_name</th>\n",
       "      <th>popularity_ratio</th>\n",
       "      <th>listed_count</th>\n",
       "      <th>verified</th>\n",
       "      <th>tweets_per_day</th>\n",
       "      <th>default_profile</th>\n",
       "      <th>name</th>\n",
       "      <th>full_text</th>\n",
       "      <th>lang</th>\n",
       "      <th>isBot</th>\n",
       "    </tr>\n",
       "  </thead>\n",
       "  <tbody>\n",
       "    <tr>\n",
       "      <th>0</th>\n",
       "      <td>DearAssistant</td>\n",
       "      <td>0.000213</td>\n",
       "      <td>146</td>\n",
       "      <td>0</td>\n",
       "      <td>2.682644</td>\n",
       "      <td>0</td>\n",
       "      <td>DearAssistant</td>\n",
       "      <td>2159.3 miles RT @Hi_5040 whats the lenght of t...</td>\n",
       "      <td>en</td>\n",
       "      <td>1.0</td>\n",
       "    </tr>\n",
       "    <tr>\n",
       "      <th>1</th>\n",
       "      <td>SanJacintoClan</td>\n",
       "      <td>1.988737</td>\n",
       "      <td>19</td>\n",
       "      <td>0</td>\n",
       "      <td>14.762141</td>\n",
       "      <td>0</td>\n",
       "      <td>SanJacintoClan</td>\n",
       "      <td>Sean Rima: The Rape of The Alamo. https://t.co...</td>\n",
       "      <td>en</td>\n",
       "      <td>1.0</td>\n",
       "    </tr>\n",
       "    <tr>\n",
       "      <th>2</th>\n",
       "      <td>SanJacintoClan</td>\n",
       "      <td>1.988737</td>\n",
       "      <td>19</td>\n",
       "      <td>0</td>\n",
       "      <td>14.762141</td>\n",
       "      <td>0</td>\n",
       "      <td>SanJacintoClan</td>\n",
       "      <td>https://t.co/P28ddc7a4C</td>\n",
       "      <td>und</td>\n",
       "      <td>1.0</td>\n",
       "    </tr>\n",
       "    <tr>\n",
       "      <th>3</th>\n",
       "      <td>SanJacintoClan</td>\n",
       "      <td>1.988737</td>\n",
       "      <td>19</td>\n",
       "      <td>0</td>\n",
       "      <td>14.762141</td>\n",
       "      <td>0</td>\n",
       "      <td>SanJacintoClan</td>\n",
       "      <td>Martinez is the cousin to the wife of the gove...</td>\n",
       "      <td>en</td>\n",
       "      <td>1.0</td>\n",
       "    </tr>\n",
       "    <tr>\n",
       "      <th>4</th>\n",
       "      <td>SanJacintoClan</td>\n",
       "      <td>1.988737</td>\n",
       "      <td>19</td>\n",
       "      <td>0</td>\n",
       "      <td>14.762141</td>\n",
       "      <td>0</td>\n",
       "      <td>SanJacintoClan</td>\n",
       "      <td>Charlotte Rae, 'The Facts of Life' and 'Diff'r...</td>\n",
       "      <td>en</td>\n",
       "      <td>1.0</td>\n",
       "    </tr>\n",
       "  </tbody>\n",
       "</table>\n",
       "</div>"
      ],
      "text/plain": [
       "      screen_name  popularity_ratio  listed_count  verified  tweets_per_day  default_profile            name                                          full_text lang  isBot\n",
       "0   DearAssistant          0.000213           146         0        2.682644                0   DearAssistant  2159.3 miles RT @Hi_5040 whats the lenght of t...   en    1.0\n",
       "1  SanJacintoClan          1.988737            19         0       14.762141                0  SanJacintoClan  Sean Rima: The Rape of The Alamo. https://t.co...   en    1.0\n",
       "2  SanJacintoClan          1.988737            19         0       14.762141                0  SanJacintoClan                            https://t.co/P28ddc7a4C  und    1.0\n",
       "3  SanJacintoClan          1.988737            19         0       14.762141                0  SanJacintoClan  Martinez is the cousin to the wife of the gove...   en    1.0\n",
       "4  SanJacintoClan          1.988737            19         0       14.762141                0  SanJacintoClan  Charlotte Rae, 'The Facts of Life' and 'Diff'r...   en    1.0"
      ]
     },
     "execution_count": 5,
     "metadata": {},
     "output_type": "execute_result"
    }
   ],
   "source": [
    "tweets_with_accounts.head()"
   ]
  },
  {
   "cell_type": "code",
   "execution_count": 5,
   "metadata": {},
   "outputs": [
    {
     "name": "stdout",
     "output_type": "stream",
     "text": [
      " Training data size is 241836 and test data size is 80612 and tune data size is 80612\n"
     ]
    }
   ],
   "source": [
    "## Splitting the data into training and test data\n",
    "from sklearn.model_selection import train_test_split\n",
    "from sklearn.preprocessing import StandardScaler\n",
    "\n",
    "## Removing NaN indexes from dataframe\n",
    "tweets_with_accounts = tweets_with_accounts[tweets_with_accounts.listed_count.notnull()]\n",
    "tweets_with_accounts = tweets_with_accounts[tweets_with_accounts.popularity_ratio.notnull()]\n",
    "tweets_with_accounts = tweets_with_accounts[tweets_with_accounts.verified.notnull()]\n",
    "tweets_with_accounts = tweets_with_accounts[tweets_with_accounts.tweets_per_day.notnull()]\n",
    "tweets_with_accounts = tweets_with_accounts[tweets_with_accounts.default_profile.notnull()]\n",
    "tweets_with_accounts = tweets_with_accounts[tweets_with_accounts.isBot.notnull()]\n",
    "\n",
    "training_data, test_tune_data = train_test_split(tweets_with_accounts, test_size=.4)\n",
    "\n",
    "tune_data, test_data = train_test_split(test_tune_data, test_size=.5)\n",
    "\n",
    "print(\" Training data size is {} and test data size is {} and tune data size is {}\".\n",
    "      format(len(training_data), len(test_data), len(tune_data)))\n",
    "\n"
   ]
  },
  {
   "cell_type": "code",
   "execution_count": 6,
   "metadata": {},
   "outputs": [
    {
     "data": {
      "text/html": [
       "<div>\n",
       "<style scoped>\n",
       "    .dataframe tbody tr th:only-of-type {\n",
       "        vertical-align: middle;\n",
       "    }\n",
       "\n",
       "    .dataframe tbody tr th {\n",
       "        vertical-align: top;\n",
       "    }\n",
       "\n",
       "    .dataframe thead th {\n",
       "        text-align: right;\n",
       "    }\n",
       "</style>\n",
       "<table border=\"1\" class=\"dataframe\">\n",
       "  <thead>\n",
       "    <tr style=\"text-align: right;\">\n",
       "      <th></th>\n",
       "      <th>Unnamed: 0</th>\n",
       "      <th>screen_name</th>\n",
       "      <th>popularity_ratio</th>\n",
       "      <th>listed_count</th>\n",
       "      <th>verified</th>\n",
       "      <th>tweets_per_day</th>\n",
       "      <th>default_profile</th>\n",
       "      <th>name</th>\n",
       "      <th>full_text</th>\n",
       "      <th>lang</th>\n",
       "      <th>isBot</th>\n",
       "    </tr>\n",
       "  </thead>\n",
       "  <tbody>\n",
       "    <tr>\n",
       "      <th>332772</th>\n",
       "      <td>332772</td>\n",
       "      <td>CitronResearch</td>\n",
       "      <td>0.001531</td>\n",
       "      <td>1850</td>\n",
       "      <td>0</td>\n",
       "      <td>0.132635</td>\n",
       "      <td>0</td>\n",
       "      <td>CitronResearch</td>\n",
       "      <td>$VRX this is not a pharma or bio problem- this...</td>\n",
       "      <td>en</td>\n",
       "      <td>0.0</td>\n",
       "    </tr>\n",
       "    <tr>\n",
       "      <th>197011</th>\n",
       "      <td>197011</td>\n",
       "      <td>365GettinIt</td>\n",
       "      <td>1.397004</td>\n",
       "      <td>2</td>\n",
       "      <td>0</td>\n",
       "      <td>20.574038</td>\n",
       "      <td>1</td>\n",
       "      <td>365GettinIt</td>\n",
       "      <td>Trap jumpin Blake Griffin fuck ur Michael Jordan</td>\n",
       "      <td>en</td>\n",
       "      <td>1.0</td>\n",
       "    </tr>\n",
       "    <tr>\n",
       "      <th>279212</th>\n",
       "      <td>279212</td>\n",
       "      <td>pfdbot</td>\n",
       "      <td>0.000000</td>\n",
       "      <td>1</td>\n",
       "      <td>0</td>\n",
       "      <td>76.586310</td>\n",
       "      <td>1</td>\n",
       "      <td>pfdbot</td>\n",
       "      <td>Alaskans own 8,073 shares of KOLON INDUSTRIES ...</td>\n",
       "      <td>en</td>\n",
       "      <td>1.0</td>\n",
       "    </tr>\n",
       "    <tr>\n",
       "      <th>12546</th>\n",
       "      <td>12546</td>\n",
       "      <td>netflix_bot</td>\n",
       "      <td>0.000149</td>\n",
       "      <td>0</td>\n",
       "      <td>0</td>\n",
       "      <td>5.787074</td>\n",
       "      <td>0</td>\n",
       "      <td>netflix_bot</td>\n",
       "      <td>The Horn/Season 1 (2016) TV-14 [Season] is now...</td>\n",
       "      <td>en</td>\n",
       "      <td>1.0</td>\n",
       "    </tr>\n",
       "    <tr>\n",
       "      <th>32282</th>\n",
       "      <td>32282</td>\n",
       "      <td>RyanDetrick</td>\n",
       "      <td>0.016529</td>\n",
       "      <td>1396</td>\n",
       "      <td>0</td>\n",
       "      <td>10.804857</td>\n",
       "      <td>0</td>\n",
       "      <td>RyanDetrick</td>\n",
       "      <td>Talking yield curve inversions with @LaMonicaB...</td>\n",
       "      <td>en</td>\n",
       "      <td>0.0</td>\n",
       "    </tr>\n",
       "  </tbody>\n",
       "</table>\n",
       "</div>"
      ],
      "text/plain": [
       "        Unnamed: 0     screen_name  popularity_ratio  listed_count  verified  tweets_per_day  default_profile            name                                          full_text lang  isBot\n",
       "332772      332772  CitronResearch          0.001531          1850         0        0.132635                0  CitronResearch  $VRX this is not a pharma or bio problem- this...   en    0.0\n",
       "197011      197011     365GettinIt          1.397004             2         0       20.574038                1     365GettinIt   Trap jumpin Blake Griffin fuck ur Michael Jordan   en    1.0\n",
       "279212      279212          pfdbot          0.000000             1         0       76.586310                1          pfdbot  Alaskans own 8,073 shares of KOLON INDUSTRIES ...   en    1.0\n",
       "12546        12546     netflix_bot          0.000149             0         0        5.787074                0     netflix_bot  The Horn/Season 1 (2016) TV-14 [Season] is now...   en    1.0\n",
       "32282        32282     RyanDetrick          0.016529          1396         0       10.804857                0     RyanDetrick  Talking yield curve inversions with @LaMonicaB...   en    0.0"
      ]
     },
     "execution_count": 6,
     "metadata": {},
     "output_type": "execute_result"
    }
   ],
   "source": [
    "training_data.head()"
   ]
  },
  {
   "cell_type": "markdown",
   "metadata": {},
   "source": [
    "### Feature Selection and standardizing the predictors"
   ]
  },
  {
   "cell_type": "code",
   "execution_count": 7,
   "metadata": {},
   "outputs": [],
   "source": [
    "num_features =  [\"listed_count\", \"tweets_per_day\"]\n",
    "\n",
    "scaler = StandardScaler()\n",
    "for feat in num_features:\n",
    "    training_data[feat] = scaler.fit_transform(training_data[feat].values.reshape(-1,1))\n",
    "    test_data[feat] = scaler.fit_transform(test_data[feat].values.reshape(-1,1))\n"
   ]
  },
  {
   "cell_type": "markdown",
   "metadata": {},
   "source": [
    "### Building predictors dataset(X_train, X_test) and response dataset(y_train, y_test)"
   ]
  },
  {
   "cell_type": "code",
   "execution_count": 8,
   "metadata": {},
   "outputs": [
    {
     "data": {
      "text/html": [
       "<div>\n",
       "<style scoped>\n",
       "    .dataframe tbody tr th:only-of-type {\n",
       "        vertical-align: middle;\n",
       "    }\n",
       "\n",
       "    .dataframe tbody tr th {\n",
       "        vertical-align: top;\n",
       "    }\n",
       "\n",
       "    .dataframe thead th {\n",
       "        text-align: right;\n",
       "    }\n",
       "</style>\n",
       "<table border=\"1\" class=\"dataframe\">\n",
       "  <thead>\n",
       "    <tr style=\"text-align: right;\">\n",
       "      <th></th>\n",
       "      <th>Unnamed: 0</th>\n",
       "      <th>screen_name</th>\n",
       "      <th>popularity_ratio</th>\n",
       "      <th>listed_count</th>\n",
       "      <th>verified</th>\n",
       "      <th>tweets_per_day</th>\n",
       "      <th>default_profile</th>\n",
       "      <th>name</th>\n",
       "      <th>full_text</th>\n",
       "      <th>lang</th>\n",
       "      <th>isBot</th>\n",
       "    </tr>\n",
       "  </thead>\n",
       "  <tbody>\n",
       "    <tr>\n",
       "      <th>299369</th>\n",
       "      <td>299369</td>\n",
       "      <td>jfahmy</td>\n",
       "      <td>0.030469</td>\n",
       "      <td>-0.105587</td>\n",
       "      <td>0</td>\n",
       "      <td>-0.568532</td>\n",
       "      <td>1</td>\n",
       "      <td>jfahmy</td>\n",
       "      <td>This gives a whole new meaning to getting scre...</td>\n",
       "      <td>en</td>\n",
       "      <td>0.0</td>\n",
       "    </tr>\n",
       "    <tr>\n",
       "      <th>230712</th>\n",
       "      <td>230712</td>\n",
       "      <td>3roOpal5aja</td>\n",
       "      <td>0.060241</td>\n",
       "      <td>-0.152325</td>\n",
       "      <td>0</td>\n",
       "      <td>-0.227612</td>\n",
       "      <td>0</td>\n",
       "      <td>3roOpal5aja</td>\n",
       "      <td>رسالة سعادة :\\r\\nسلم أمرك لله وإبتسم وإطمئن وا...</td>\n",
       "      <td>ar</td>\n",
       "      <td>1.0</td>\n",
       "    </tr>\n",
       "    <tr>\n",
       "      <th>68284</th>\n",
       "      <td>68284</td>\n",
       "      <td>reverseocr</td>\n",
       "      <td>0.000437</td>\n",
       "      <td>-0.142868</td>\n",
       "      <td>0</td>\n",
       "      <td>-0.508329</td>\n",
       "      <td>1</td>\n",
       "      <td>reverseocr</td>\n",
       "      <td>kinship https://t.co/oFTgFbly17</td>\n",
       "      <td>en</td>\n",
       "      <td>1.0</td>\n",
       "    </tr>\n",
       "    <tr>\n",
       "      <th>57371</th>\n",
       "      <td>57371</td>\n",
       "      <td>CATargetBot</td>\n",
       "      <td>0.000699</td>\n",
       "      <td>-0.150568</td>\n",
       "      <td>0</td>\n",
       "      <td>0.098793</td>\n",
       "      <td>1</td>\n",
       "      <td>CATargetBot</td>\n",
       "      <td>NEW FPPC F460\\r\\n#SD10 Bob Wieckowski (D)\\r\\nh...</td>\n",
       "      <td>de</td>\n",
       "      <td>1.0</td>\n",
       "    </tr>\n",
       "    <tr>\n",
       "      <th>36593</th>\n",
       "      <td>36593</td>\n",
       "      <td>vexmark</td>\n",
       "      <td>0.018690</td>\n",
       "      <td>-0.125629</td>\n",
       "      <td>0</td>\n",
       "      <td>-0.033539</td>\n",
       "      <td>0</td>\n",
       "      <td>vexmark</td>\n",
       "      <td>Sure, neo-malthusian arguments of global popul...</td>\n",
       "      <td>en</td>\n",
       "      <td>0.0</td>\n",
       "    </tr>\n",
       "  </tbody>\n",
       "</table>\n",
       "</div>"
      ],
      "text/plain": [
       "        Unnamed: 0  screen_name  popularity_ratio  listed_count  verified  tweets_per_day  default_profile         name                                          full_text lang  isBot\n",
       "299369      299369       jfahmy          0.030469     -0.105587         0       -0.568532                1       jfahmy  This gives a whole new meaning to getting scre...   en    0.0\n",
       "230712      230712  3roOpal5aja          0.060241     -0.152325         0       -0.227612                0  3roOpal5aja  رسالة سعادة :\\r\\nسلم أمرك لله وإبتسم وإطمئن وا...   ar    1.0\n",
       "68284        68284   reverseocr          0.000437     -0.142868         0       -0.508329                1   reverseocr                    kinship https://t.co/oFTgFbly17   en    1.0\n",
       "57371        57371  CATargetBot          0.000699     -0.150568         0        0.098793                1  CATargetBot  NEW FPPC F460\\r\\n#SD10 Bob Wieckowski (D)\\r\\nh...   de    1.0\n",
       "36593        36593      vexmark          0.018690     -0.125629         0       -0.033539                0      vexmark  Sure, neo-malthusian arguments of global popul...   en    0.0"
      ]
     },
     "execution_count": 8,
     "metadata": {},
     "output_type": "execute_result"
    }
   ],
   "source": [
    "test_data.head()"
   ]
  },
  {
   "cell_type": "code",
   "execution_count": 9,
   "metadata": {},
   "outputs": [],
   "source": [
    "X_train = training_data[[\"popularity_ratio\", \"listed_count\", \"verified\",\"tweets_per_day\",\"default_profile\"]]\n",
    "y_train = training_data[[\"isBot\"]]\n",
    "\n",
    "X_test = test_data[[\"popularity_ratio\", \"listed_count\", \"verified\",\"tweets_per_day\",\"default_profile\"]]\n",
    "y_test = test_data[[\"isBot\"]]\n",
    "\n",
    "X_tune = tune_data[[\"popularity_ratio\", \"listed_count\", \"verified\",\"tweets_per_day\",\"default_profile\"]]\n",
    "y_tune = tune_data[[\"isBot\"]]"
   ]
  },
  {
   "cell_type": "code",
   "execution_count": 10,
   "metadata": {},
   "outputs": [
    {
     "data": {
      "text/html": [
       "<div>\n",
       "<style scoped>\n",
       "    .dataframe tbody tr th:only-of-type {\n",
       "        vertical-align: middle;\n",
       "    }\n",
       "\n",
       "    .dataframe tbody tr th {\n",
       "        vertical-align: top;\n",
       "    }\n",
       "\n",
       "    .dataframe thead th {\n",
       "        text-align: right;\n",
       "    }\n",
       "</style>\n",
       "<table border=\"1\" class=\"dataframe\">\n",
       "  <thead>\n",
       "    <tr style=\"text-align: right;\">\n",
       "      <th></th>\n",
       "      <th>popularity_ratio</th>\n",
       "      <th>listed_count</th>\n",
       "      <th>verified</th>\n",
       "      <th>tweets_per_day</th>\n",
       "      <th>default_profile</th>\n",
       "    </tr>\n",
       "  </thead>\n",
       "  <tbody>\n",
       "    <tr>\n",
       "      <th>332772</th>\n",
       "      <td>0.001531</td>\n",
       "      <td>-0.077761</td>\n",
       "      <td>0</td>\n",
       "      <td>-0.566839</td>\n",
       "      <td>0</td>\n",
       "    </tr>\n",
       "    <tr>\n",
       "      <th>197011</th>\n",
       "      <td>1.397004</td>\n",
       "      <td>-0.153936</td>\n",
       "      <td>0</td>\n",
       "      <td>-0.174661</td>\n",
       "      <td>1</td>\n",
       "    </tr>\n",
       "    <tr>\n",
       "      <th>279212</th>\n",
       "      <td>0.000000</td>\n",
       "      <td>-0.153977</td>\n",
       "      <td>0</td>\n",
       "      <td>0.899960</td>\n",
       "      <td>1</td>\n",
       "    </tr>\n",
       "    <tr>\n",
       "      <th>12546</th>\n",
       "      <td>0.000149</td>\n",
       "      <td>-0.154018</td>\n",
       "      <td>0</td>\n",
       "      <td>-0.458356</td>\n",
       "      <td>0</td>\n",
       "    </tr>\n",
       "    <tr>\n",
       "      <th>32282</th>\n",
       "      <td>0.016529</td>\n",
       "      <td>-0.096475</td>\n",
       "      <td>0</td>\n",
       "      <td>-0.362087</td>\n",
       "      <td>0</td>\n",
       "    </tr>\n",
       "  </tbody>\n",
       "</table>\n",
       "</div>"
      ],
      "text/plain": [
       "        popularity_ratio  listed_count  verified  tweets_per_day  default_profile\n",
       "332772          0.001531     -0.077761         0       -0.566839                0\n",
       "197011          1.397004     -0.153936         0       -0.174661                1\n",
       "279212          0.000000     -0.153977         0        0.899960                1\n",
       "12546           0.000149     -0.154018         0       -0.458356                0\n",
       "32282           0.016529     -0.096475         0       -0.362087                0"
      ]
     },
     "execution_count": 10,
     "metadata": {},
     "output_type": "execute_result"
    }
   ],
   "source": [
    "X_train.head()"
   ]
  },
  {
   "cell_type": "code",
   "execution_count": 11,
   "metadata": {},
   "outputs": [
    {
     "data": {
      "text/html": [
       "<div>\n",
       "<style scoped>\n",
       "    .dataframe tbody tr th:only-of-type {\n",
       "        vertical-align: middle;\n",
       "    }\n",
       "\n",
       "    .dataframe tbody tr th {\n",
       "        vertical-align: top;\n",
       "    }\n",
       "\n",
       "    .dataframe thead th {\n",
       "        text-align: right;\n",
       "    }\n",
       "</style>\n",
       "<table border=\"1\" class=\"dataframe\">\n",
       "  <thead>\n",
       "    <tr style=\"text-align: right;\">\n",
       "      <th></th>\n",
       "      <th>popularity_ratio</th>\n",
       "      <th>listed_count</th>\n",
       "      <th>verified</th>\n",
       "      <th>tweets_per_day</th>\n",
       "      <th>default_profile</th>\n",
       "    </tr>\n",
       "  </thead>\n",
       "  <tbody>\n",
       "    <tr>\n",
       "      <th>299369</th>\n",
       "      <td>0.030469</td>\n",
       "      <td>-0.105587</td>\n",
       "      <td>0</td>\n",
       "      <td>-0.568532</td>\n",
       "      <td>1</td>\n",
       "    </tr>\n",
       "    <tr>\n",
       "      <th>230712</th>\n",
       "      <td>0.060241</td>\n",
       "      <td>-0.152325</td>\n",
       "      <td>0</td>\n",
       "      <td>-0.227612</td>\n",
       "      <td>0</td>\n",
       "    </tr>\n",
       "    <tr>\n",
       "      <th>68284</th>\n",
       "      <td>0.000437</td>\n",
       "      <td>-0.142868</td>\n",
       "      <td>0</td>\n",
       "      <td>-0.508329</td>\n",
       "      <td>1</td>\n",
       "    </tr>\n",
       "    <tr>\n",
       "      <th>57371</th>\n",
       "      <td>0.000699</td>\n",
       "      <td>-0.150568</td>\n",
       "      <td>0</td>\n",
       "      <td>0.098793</td>\n",
       "      <td>1</td>\n",
       "    </tr>\n",
       "    <tr>\n",
       "      <th>36593</th>\n",
       "      <td>0.018690</td>\n",
       "      <td>-0.125629</td>\n",
       "      <td>0</td>\n",
       "      <td>-0.033539</td>\n",
       "      <td>0</td>\n",
       "    </tr>\n",
       "  </tbody>\n",
       "</table>\n",
       "</div>"
      ],
      "text/plain": [
       "        popularity_ratio  listed_count  verified  tweets_per_day  default_profile\n",
       "299369          0.030469     -0.105587         0       -0.568532                1\n",
       "230712          0.060241     -0.152325         0       -0.227612                0\n",
       "68284           0.000437     -0.142868         0       -0.508329                1\n",
       "57371           0.000699     -0.150568         0        0.098793                1\n",
       "36593           0.018690     -0.125629         0       -0.033539                0"
      ]
     },
     "execution_count": 11,
     "metadata": {},
     "output_type": "execute_result"
    }
   ],
   "source": [
    "X_test.head()"
   ]
  },
  {
   "cell_type": "code",
   "execution_count": 12,
   "metadata": {},
   "outputs": [
    {
     "name": "stdout",
     "output_type": "stream",
     "text": [
      "X_train shape is (241836, 5), and y_train shape is (241836, 1)\n"
     ]
    }
   ],
   "source": [
    "print(\"X_train shape is {}, and y_train shape is {}\".format(X_train.shape, y_train.shape))"
   ]
  },
  {
   "cell_type": "markdown",
   "metadata": {},
   "source": [
    "###  Our Base Line Model is  a simple Logistic Regression Model"
   ]
  },
  {
   "cell_type": "code",
   "execution_count": 13,
   "metadata": {},
   "outputs": [
    {
     "name": "stdout",
     "output_type": "stream",
     "text": [
      "Train set score: 89.52%\n",
      "Test set score: 89.62%\n"
     ]
    }
   ],
   "source": [
    "from sklearn.linear_model import LogisticRegression\n",
    "\n",
    "model_collection = {}\n",
    "\n",
    "logit_model = LogisticRegression().fit(X_train, y_train)\n",
    "\n",
    "logistic_model_score = logit_model.score(X_test, y_test)\n",
    "\n",
    "model_collection[\"simple_logistic\"] = logit_model\n",
    "\n",
    "print(\"Train set score: {0:4.4}%\".format(logit_model.score(X_train, y_train)*100))\n",
    "print(\"Test set score: {0:4.4}%\".format(logit_model.score(X_test, y_test)*100))\n"
   ]
  },
  {
   "cell_type": "markdown",
   "metadata": {},
   "source": [
    "**Our Test score is 91% which is not bad for a Base Model considering our worst chance is 50% **"
   ]
  },
  {
   "cell_type": "code",
   "execution_count": null,
   "metadata": {},
   "outputs": [],
   "source": []
  },
  {
   "cell_type": "markdown",
   "metadata": {},
   "source": [
    "### Next Model is LogisticRegression with Cross Validation"
   ]
  },
  {
   "cell_type": "code",
   "execution_count": 14,
   "metadata": {},
   "outputs": [
    {
     "name": "stdout",
     "output_type": "stream",
     "text": [
      "Test set score with Cross Validation: 89.62%\n"
     ]
    }
   ],
   "source": [
    "from sklearn.linear_model import LogisticRegressionCV\n",
    "logic_model_cv = LogisticRegressionCV(Cs=[1,10,100,1000,10000], cv=3, penalty='l2', \n",
    "                                       solver='newton-cg').fit(X_train,y_train)\n",
    "\n",
    "model_collection[\"simple_logistic_CV\"] = logic_model_cv\n",
    "print(\"Test set score with Cross Validation: {0:4.4}%\".format(logic_model_cv.score(X_test, y_test)*100))\n"
   ]
  },
  {
   "cell_type": "markdown",
   "metadata": {},
   "source": [
    "** Cross validation with Regularization is giving us ~ 85 % accuracy which is an improvement from the base model, and We would like to see how we can improve this further. **"
   ]
  },
  {
   "cell_type": "markdown",
   "metadata": {},
   "source": [
    "### Adding Polynomial of 3 degrees and using Logistic Regression "
   ]
  },
  {
   "cell_type": "code",
   "execution_count": null,
   "metadata": {},
   "outputs": [],
   "source": [
    "\n",
    "from sklearn.preprocessing import PolynomialFeatures\n",
    "\n",
    "\n",
    "X_train_poly = PolynomialFeatures(degree=3, include_bias=False).fit_transform(X_train)\n",
    "X_test_poly = PolynomialFeatures(degree=3, include_bias=False).fit_transform(X_test)\n",
    "\n",
    "logic_model_poly_cv = LogisticRegressionCV(Cs=[1,10,100,1000,10000], cv=3, penalty='l2', \n",
    "                                       solver='newton-cg').fit(X_train_poly,y_train)\n",
    "\n",
    "model_collection[\"poly_logistic_cv\"] = logic_model_poly_cv\n",
    "`\n"
   ]
  },
  {
   "cell_type": "code",
   "execution_count": 16,
   "metadata": {},
   "outputs": [
    {
     "name": "stdout",
     "output_type": "stream",
     "text": [
      "Test set score with Polynomial Features and with Cross Validation: 89.62%\n"
     ]
    }
   ],
   "source": [
    "print(\"Test set score with Polynomial Features and with Cross Validation: {0:4.4}%\".\n",
    "      format(logic_model_cv.score(X_test, y_test)*100))"
   ]
  },
  {
   "cell_type": "markdown",
   "metadata": {},
   "source": [
    "** Test score is much better now with Polynomial degree of predictors, We will continue to look for improvements **\n",
    "**with other different models that we learned in the class ** "
   ]
  },
  {
   "cell_type": "markdown",
   "metadata": {},
   "source": [
    "### Decision Tree Classifier\n",
    "\n",
    "We are going to look at how Decision Tree Classifier fits into our data set, we are going to look at multiple depths and use cross validation score method of sklearn to find out which depth fits perfect and not overfit.(reference from HW6)"
   ]
  },
  {
   "cell_type": "code",
   "execution_count": null,
   "metadata": {},
   "outputs": [],
   "source": [
    "from sklearn.tree import DecisionTreeClassifier\n",
    "from sklearn.model_selection import cross_val_score\n",
    "fig, ax = plt.subplots(1,1, figsize=(15,6))\n",
    "x = list(range(1,21))\n",
    "means = []\n",
    "stds = []\n",
    "for cur_depth in range(1,21):\n",
    "    decision_tree_model = DecisionTreeClassifier(max_depth = cur_depth)\n",
    "    scores = cross_val_score(decision_tree_model, X_train, y_train, cv=5)\n",
    "    means.append(np.mean(scores))\n",
    "    stds.append(2*np.std(scores))\n",
    "    \n",
    "ax.errorbar(x, means, stds, marker='^', linestyle='dotted', label=\"Mean +-2(std)\")\n",
    "#ax.plot(x,means,'o',color=\"g\")\n",
    "ax.set_xticks(x)\n",
    "ax.axvline(x=6)\n",
    "ax.set_xlabel(\"Decision tree Depth\", fontsize=15)\n",
    "ax.set_ylabel(\"Performace\", fontsize=15)\n",
    "ax.set_title(\"Decision Tree Performance with Varying Depth\", fontsize=20)\n",
    "ax.legend()\n"
   ]
  },
  {
   "cell_type": "markdown",
   "metadata": {},
   "source": [
    "**Looking at the above graph looks like depth 6 seems to be perfect for our data. So we are going to use that depth to build our model and try testing it on the test data set ** "
   ]
  },
  {
   "cell_type": "code",
   "execution_count": 17,
   "metadata": {},
   "outputs": [],
   "source": [
    "from sklearn.tree import DecisionTreeClassifier\n",
    "from sklearn.model_selection import cross_val_score\n",
    "\n",
    "decision_tree_model = DecisionTreeClassifier(max_depth = 6).fit(X_train, y_train)\n",
    "\n",
    "model_collection[\"decision_tree\"] = decision_tree_model"
   ]
  },
  {
   "cell_type": "code",
   "execution_count": 18,
   "metadata": {},
   "outputs": [
    {
     "name": "stdout",
     "output_type": "stream",
     "text": [
      "Decision Tree Classifier Model score for test data: 97.08%\n"
     ]
    }
   ],
   "source": [
    "score = decision_tree_model.score(X_test, y_test)\n",
    "\n",
    "print(\"Decision Tree Classifier Model score for test data: {0:4.4}%\".format(score*100))\n"
   ]
  },
  {
   "cell_type": "markdown",
   "metadata": {},
   "source": [
    "Our decision tree seems to be peforming very poorly compared to other models, \n",
    "There are mulitple strategies that we have learnt in the class, we can apply \n",
    "Boosting , Bagging and Prunning to improve the results of the decision tree\n",
    "\n",
    "We are going to try **Boosting(AdaBoost) and Bagging ** and let's see if that improves the performance"
   ]
  },
  {
   "cell_type": "markdown",
   "metadata": {},
   "source": [
    "## Random Forests Classifier"
   ]
  },
  {
   "cell_type": "code",
   "execution_count": 20,
   "metadata": {},
   "outputs": [
    {
     "name": "stdout",
     "output_type": "stream",
     "text": [
      "Random Forest model score is  1.0\n"
     ]
    }
   ],
   "source": [
    "from sklearn.ensemble import RandomForestClassifier\n",
    "\n",
    "rf = RandomForestClassifier(n_estimators=25, max_depth=6)\n",
    "rf_model = rf.fit(X_train, y_train)\n",
    "score = rf_model.score(X_test, y_test)\n",
    "\n",
    "model_collection[\"random_forest\"] = random_forest_model\n",
    "\n",
    "print(\"Random Forest model score is \", score)"
   ]
  },
  {
   "cell_type": "markdown",
   "metadata": {},
   "source": [
    "### Boosting(AdaBoost Classifier)"
   ]
  },
  {
   "cell_type": "code",
   "execution_count": null,
   "metadata": {},
   "outputs": [],
   "source": [
    "print(X_train.shape)\n",
    "print(y_train.shape)"
   ]
  },
  {
   "cell_type": "code",
   "execution_count": null,
   "metadata": {},
   "outputs": [],
   "source": [
    "from sklearn import ensemble\n",
    "from sklearn import tree\n",
    "\n",
    "fig, ax = plt.subplots(3,1, figsize=(15,15))\n",
    "estimators_num = 400\n",
    "x_labels=range(1,estimators_num+1)\n",
    "#x_labels= list(range(1,5))\n",
    "ada_scores_test = []\n",
    "ada_scores_train = []\n",
    "for depth in range(1,4):\n",
    "    adaboost = ensemble.AdaBoostClassifier(tree.DecisionTreeClassifier(max_depth=depth), \n",
    "                                           n_estimators=estimators_num, learning_rate=.05)\n",
    "    adamodel = adaboost.fit(X_train, y_train)\n",
    "    \n",
    "    ax[depth-1].plot(list(x_labels),list(adamodel.staged_score(X_train,y_train)),color=\"r\",\n",
    "                     label=\"Trainng score with depth {}\".format(depth))\n",
    "    ax[depth-1].plot(list(x_labels),list(adamodel.staged_score(X_test,y_test)),color=\"g\", \n",
    "                     label=\"Test score with depth {}\".format(depth))\n",
    "    ax[depth-1].legend()\n",
    "    \n",
    "fig.suptitle(\"Ada Boost Model Score vs # of iterations\", fontsize=20)\n",
    "    \n",
    "    \n"
   ]
  },
  {
   "cell_type": "markdown",
   "metadata": {},
   "source": [
    "### Before We jump on to Neural Networks, \n",
    "### I would like to build an emsemble model with all the models that we have build so far and let's see how that changes our prediction"
   ]
  },
  {
   "cell_type": "code",
   "execution_count": 24,
   "metadata": {},
   "outputs": [],
   "source": [
    "\n",
    "\n",
    "from sklearn.utils import resample\n",
    "emsemble_train = pd.DataFrame()\n",
    "emsemble_test = pd.DataFrame()\n",
    "for model_name, model in model_collection.items():\n",
    "    if(model_name==\"poly_logistic_cv\"):\n",
    "        y_predict = model.predict(X_train_poly)\n",
    "    elif():\n",
    "         y_predict = model.predict(X_trai)\n",
    "    \n",
    "    emsemble_train[model_name] = y_predict\n",
    "    \n",
    "    if(model_name==\"poly_logistic_cv\"):\n",
    "        y_predict_test = model.predict(X_test_poly)\n",
    "    elif():\n",
    "         y_predict_test = model.predict(X_test)\n",
    "    \n",
    "    emsemble_test[model_name] = y_predict_test\n",
    "    \n"
   ]
  },
  {
   "cell_type": "code",
   "execution_count": 25,
   "metadata": {},
   "outputs": [
    {
     "data": {
      "text/html": [
       "<div>\n",
       "<style scoped>\n",
       "    .dataframe tbody tr th:only-of-type {\n",
       "        vertical-align: middle;\n",
       "    }\n",
       "\n",
       "    .dataframe tbody tr th {\n",
       "        vertical-align: top;\n",
       "    }\n",
       "\n",
       "    .dataframe thead th {\n",
       "        text-align: right;\n",
       "    }\n",
       "</style>\n",
       "<table border=\"1\" class=\"dataframe\">\n",
       "  <thead>\n",
       "    <tr style=\"text-align: right;\">\n",
       "      <th></th>\n",
       "      <th>simple_logistic</th>\n",
       "      <th>simple_logistic_CV</th>\n",
       "      <th>poly_logistic_cv</th>\n",
       "      <th>decision_tree</th>\n",
       "      <th>random_forest</th>\n",
       "    </tr>\n",
       "  </thead>\n",
       "  <tbody>\n",
       "    <tr>\n",
       "      <th>0</th>\n",
       "      <td>0.0</td>\n",
       "      <td>0.0</td>\n",
       "      <td>0.0</td>\n",
       "      <td>0.0</td>\n",
       "      <td>0.0</td>\n",
       "    </tr>\n",
       "    <tr>\n",
       "      <th>1</th>\n",
       "      <td>1.0</td>\n",
       "      <td>1.0</td>\n",
       "      <td>1.0</td>\n",
       "      <td>1.0</td>\n",
       "      <td>1.0</td>\n",
       "    </tr>\n",
       "    <tr>\n",
       "      <th>2</th>\n",
       "      <td>1.0</td>\n",
       "      <td>1.0</td>\n",
       "      <td>1.0</td>\n",
       "      <td>1.0</td>\n",
       "      <td>1.0</td>\n",
       "    </tr>\n",
       "    <tr>\n",
       "      <th>3</th>\n",
       "      <td>1.0</td>\n",
       "      <td>1.0</td>\n",
       "      <td>1.0</td>\n",
       "      <td>1.0</td>\n",
       "      <td>1.0</td>\n",
       "    </tr>\n",
       "    <tr>\n",
       "      <th>4</th>\n",
       "      <td>1.0</td>\n",
       "      <td>1.0</td>\n",
       "      <td>0.0</td>\n",
       "      <td>0.0</td>\n",
       "      <td>0.0</td>\n",
       "    </tr>\n",
       "  </tbody>\n",
       "</table>\n",
       "</div>"
      ],
      "text/plain": [
       "   simple_logistic  simple_logistic_CV  poly_logistic_cv  decision_tree  random_forest\n",
       "0              0.0                 0.0               0.0            0.0            0.0\n",
       "1              1.0                 1.0               1.0            1.0            1.0\n",
       "2              1.0                 1.0               1.0            1.0            1.0\n",
       "3              1.0                 1.0               1.0            1.0            1.0\n",
       "4              1.0                 1.0               0.0            0.0            0.0"
      ]
     },
     "execution_count": 25,
     "metadata": {},
     "output_type": "execute_result"
    }
   ],
   "source": [
    "emsemble_test.head()"
   ]
  },
  {
   "cell_type": "code",
   "execution_count": 26,
   "metadata": {},
   "outputs": [
    {
     "data": {
      "text/html": [
       "<div>\n",
       "<style scoped>\n",
       "    .dataframe tbody tr th:only-of-type {\n",
       "        vertical-align: middle;\n",
       "    }\n",
       "\n",
       "    .dataframe tbody tr th {\n",
       "        vertical-align: top;\n",
       "    }\n",
       "\n",
       "    .dataframe thead th {\n",
       "        text-align: right;\n",
       "    }\n",
       "</style>\n",
       "<table border=\"1\" class=\"dataframe\">\n",
       "  <thead>\n",
       "    <tr style=\"text-align: right;\">\n",
       "      <th></th>\n",
       "      <th>simple_logistic</th>\n",
       "      <th>simple_logistic_CV</th>\n",
       "      <th>poly_logistic_cv</th>\n",
       "      <th>decision_tree</th>\n",
       "      <th>random_forest</th>\n",
       "    </tr>\n",
       "  </thead>\n",
       "  <tbody>\n",
       "    <tr>\n",
       "      <th>0</th>\n",
       "      <td>0.0</td>\n",
       "      <td>0.0</td>\n",
       "      <td>0.0</td>\n",
       "      <td>0.0</td>\n",
       "      <td>0.0</td>\n",
       "    </tr>\n",
       "    <tr>\n",
       "      <th>1</th>\n",
       "      <td>1.0</td>\n",
       "      <td>1.0</td>\n",
       "      <td>1.0</td>\n",
       "      <td>1.0</td>\n",
       "      <td>1.0</td>\n",
       "    </tr>\n",
       "    <tr>\n",
       "      <th>2</th>\n",
       "      <td>1.0</td>\n",
       "      <td>1.0</td>\n",
       "      <td>1.0</td>\n",
       "      <td>1.0</td>\n",
       "      <td>1.0</td>\n",
       "    </tr>\n",
       "    <tr>\n",
       "      <th>3</th>\n",
       "      <td>0.0</td>\n",
       "      <td>0.0</td>\n",
       "      <td>1.0</td>\n",
       "      <td>1.0</td>\n",
       "      <td>1.0</td>\n",
       "    </tr>\n",
       "    <tr>\n",
       "      <th>4</th>\n",
       "      <td>0.0</td>\n",
       "      <td>0.0</td>\n",
       "      <td>0.0</td>\n",
       "      <td>0.0</td>\n",
       "      <td>0.0</td>\n",
       "    </tr>\n",
       "  </tbody>\n",
       "</table>\n",
       "</div>"
      ],
      "text/plain": [
       "   simple_logistic  simple_logistic_CV  poly_logistic_cv  decision_tree  random_forest\n",
       "0              0.0                 0.0               0.0            0.0            0.0\n",
       "1              1.0                 1.0               1.0            1.0            1.0\n",
       "2              1.0                 1.0               1.0            1.0            1.0\n",
       "3              0.0                 0.0               1.0            1.0            1.0\n",
       "4              0.0                 0.0               0.0            0.0            0.0"
      ]
     },
     "execution_count": 26,
     "metadata": {},
     "output_type": "execute_result"
    }
   ],
   "source": [
    "emsemble_train.head()"
   ]
  },
  {
   "cell_type": "code",
   "execution_count": 28,
   "metadata": {},
   "outputs": [
    {
     "name": "stdout",
     "output_type": "stream",
     "text": [
      "Decision Tree Classifier Model score for test data: 98.45%\n"
     ]
    }
   ],
   "source": [
    "from sklearn.metrics import accuracy_score\n",
    "meta_test_predictions = np.mean(emsemble_test,axis=1) >.5 #do we have more than 50% 1s?\n",
    "accuracy_score(y_test, meta_test_predictions)\n",
    "score =  accuracy_score(y_test, meta_test_predictions)\n",
    "print(\"Decision Tree Classifier Model score for test data: {0:4.4}%\".format(score*100))"
   ]
  },
  {
   "cell_type": "markdown",
   "metadata": {},
   "source": [
    "## Neural Networks "
   ]
  },
  {
   "cell_type": "code",
   "execution_count": 32,
   "metadata": {},
   "outputs": [],
   "source": [
    "from keras.models import Sequential\n",
    "from keras.layers import Dense\n",
    "from keras.layers import Dropout\n",
    "\n",
    "model = Sequential([\n",
    "    Dense(1000, input_shape=(5,), activation='relu'),\n",
    "    Dropout(0.5),\n",
    "    Dense(500, activation='relu'),\n",
    "    Dropout(.5),\n",
    "    Dense(100, activation='relu'),\n",
    "    Dropout(.5),\n",
    "    Dense(50, activation='relu'),\n",
    "    Dropout(.5),\n",
    "    Dense(1, activation='sigmoid')\n",
    "])\n",
    "\n",
    "model.compile(loss='binary_crossentropy',optimizer='adam')\n",
    "\n"
   ]
  },
  {
   "cell_type": "code",
   "execution_count": 33,
   "metadata": {},
   "outputs": [
    {
     "name": "stdout",
     "output_type": "stream",
     "text": [
      "_________________________________________________________________\n",
      "Layer (type)                 Output Shape              Param #   \n",
      "=================================================================\n",
      "dense_6 (Dense)              (None, 1000)              6000      \n",
      "_________________________________________________________________\n",
      "dropout_5 (Dropout)          (None, 1000)              0         \n",
      "_________________________________________________________________\n",
      "dense_7 (Dense)              (None, 500)               500500    \n",
      "_________________________________________________________________\n",
      "dropout_6 (Dropout)          (None, 500)               0         \n",
      "_________________________________________________________________\n",
      "dense_8 (Dense)              (None, 100)               50100     \n",
      "_________________________________________________________________\n",
      "dropout_7 (Dropout)          (None, 100)               0         \n",
      "_________________________________________________________________\n",
      "dense_9 (Dense)              (None, 50)                5050      \n",
      "_________________________________________________________________\n",
      "dropout_8 (Dropout)          (None, 50)                0         \n",
      "_________________________________________________________________\n",
      "dense_10 (Dense)             (None, 1)                 51        \n",
      "=================================================================\n",
      "Total params: 561,701\n",
      "Trainable params: 561,701\n",
      "Non-trainable params: 0\n",
      "_________________________________________________________________\n"
     ]
    }
   ],
   "source": [
    "model.summary()"
   ]
  },
  {
   "cell_type": "code",
   "execution_count": 35,
   "metadata": {},
   "outputs": [
    {
     "name": "stdout",
     "output_type": "stream",
     "text": [
      "Train on 193468 samples, validate on 48368 samples\n",
      "Epoch 1/5\n",
      "193468/193468 [==============================] - 171s 884us/step - loss: 0.0625 - val_loss: 0.0354\n",
      "Epoch 2/5\n",
      "193468/193468 [==============================] - 174s 898us/step - loss: 0.0600 - val_loss: 0.0399\n",
      "Epoch 3/5\n",
      "193468/193468 [==============================] - 165s 855us/step - loss: 0.0624 - val_loss: 0.0392\n",
      "Epoch 4/5\n",
      "193468/193468 [==============================] - 165s 853us/step - loss: 0.0571 - val_loss: 0.0376\n",
      "Epoch 5/5\n",
      "193468/193468 [==============================] - 157s 814us/step - loss: 0.0602 - val_loss: 0.0364\n"
     ]
    },
    {
     "data": {
      "text/plain": [
       "<keras.callbacks.History at 0x1fe03606f98>"
      ]
     },
     "execution_count": 35,
     "metadata": {},
     "output_type": "execute_result"
    }
   ],
   "source": [
    "model.fit(X_train, y_train, epochs=5, batch_size=32, validation_split = .2)"
   ]
  },
  {
   "cell_type": "code",
   "execution_count": 38,
   "metadata": {},
   "outputs": [
    {
     "name": "stdout",
     "output_type": "stream",
     "text": [
      "80612/80612 [==============================] - 10s 125us/step\n",
      "0.03686924080342081\n"
     ]
    }
   ],
   "source": [
    "print(model.evaluate(X_test, y_test))"
   ]
  },
  {
   "cell_type": "markdown",
   "metadata": {},
   "source": [
    "**I was expecting much better result, this is horrible, I am sure it will improve when run for more epochs **"
   ]
  },
  {
   "cell_type": "markdown",
   "metadata": {},
   "source": [
    "\n"
   ]
  },
  {
   "cell_type": "code",
   "execution_count": 47,
   "metadata": {},
   "outputs": [
    {
     "data": {
      "text/html": [
       "<div>\n",
       "<style scoped>\n",
       "    .dataframe tbody tr th:only-of-type {\n",
       "        vertical-align: middle;\n",
       "    }\n",
       "\n",
       "    .dataframe tbody tr th {\n",
       "        vertical-align: top;\n",
       "    }\n",
       "\n",
       "    .dataframe thead th {\n",
       "        text-align: right;\n",
       "    }\n",
       "</style>\n",
       "<table border=\"1\" class=\"dataframe\">\n",
       "  <thead>\n",
       "    <tr style=\"text-align: right;\">\n",
       "      <th></th>\n",
       "      <th>Models</th>\n",
       "      <th>Performance Score</th>\n",
       "    </tr>\n",
       "  </thead>\n",
       "  <tbody>\n",
       "    <tr>\n",
       "      <th>0</th>\n",
       "      <td>Simple Logistic Regression</td>\n",
       "      <td>89.62</td>\n",
       "    </tr>\n",
       "    <tr>\n",
       "      <th>1</th>\n",
       "      <td>Logistic Regression with CV</td>\n",
       "      <td>89.62</td>\n",
       "    </tr>\n",
       "    <tr>\n",
       "      <th>2</th>\n",
       "      <td>Polynomial Logistic Regression</td>\n",
       "      <td>89.62</td>\n",
       "    </tr>\n",
       "    <tr>\n",
       "      <th>3</th>\n",
       "      <td>Decision Tree Classifier</td>\n",
       "      <td>97.08</td>\n",
       "    </tr>\n",
       "    <tr>\n",
       "      <th>4</th>\n",
       "      <td>Random Forest</td>\n",
       "      <td>100</td>\n",
       "    </tr>\n",
       "    <tr>\n",
       "      <th>5</th>\n",
       "      <td>Ensembling</td>\n",
       "      <td>98.45</td>\n",
       "    </tr>\n",
       "    <tr>\n",
       "      <th>6</th>\n",
       "      <td>Neural Network</td>\n",
       "      <td>0</td>\n",
       "    </tr>\n",
       "  </tbody>\n",
       "</table>\n",
       "</div>"
      ],
      "text/plain": [
       "                           Models Performance Score\n",
       "0      Simple Logistic Regression             89.62\n",
       "1     Logistic Regression with CV             89.62\n",
       "2  Polynomial Logistic Regression             89.62\n",
       "3        Decision Tree Classifier             97.08\n",
       "4                   Random Forest               100\n",
       "5                      Ensembling             98.45\n",
       "6                  Neural Network                 0"
      ]
     },
     "execution_count": 47,
     "metadata": {},
     "output_type": "execute_result"
    }
   ],
   "source": [
    "### Summary Report\n",
    "\n",
    "models = [\"Simple Logistic Regression\", \"Logistic Regression with CV\", \"Polynomial Logistic Regression\",\n",
    "          \"Decision Tree Classifier\", \"Random Forest\", \"Ensembling\", \"Neural Network\"]\n",
    "models_score = [\"89.62\", \"89.62\",\"89.62\",\"97.08\",\"100\",\"98.45\", 0]\n",
    "Models_performance_summary = pd.DataFrame({\"Models\" :models, \"Performance Score\": models_score}, columns=[\"Models\", \"Performance Score\"])\n",
    "\n",
    "Models_performance_summary"
   ]
  },
  {
   "cell_type": "code",
   "execution_count": null,
   "metadata": {},
   "outputs": [],
   "source": []
  },
  {
   "cell_type": "code",
   "execution_count": null,
   "metadata": {},
   "outputs": [],
   "source": []
  }
 ],
 "metadata": {
  "kernelspec": {
   "display_name": "Python 3",
   "language": "python",
   "name": "python3"
  },
  "language_info": {
   "codemirror_mode": {
    "name": "ipython",
    "version": 3
   },
   "file_extension": ".py",
   "mimetype": "text/x-python",
   "name": "python",
   "nbconvert_exporter": "python",
   "pygments_lexer": "ipython3",
   "version": "3.6.5"
  }
 },
 "nbformat": 4,
 "nbformat_minor": 2
}
